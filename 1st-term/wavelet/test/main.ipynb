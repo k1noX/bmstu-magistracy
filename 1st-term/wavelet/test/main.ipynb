{
 "cells": [
  {
   "cell_type": "code",
   "execution_count": 11,
   "metadata": {},
   "outputs": [
    {
     "data": {
      "text/latex": [
       "$\\displaystyle 4.0$"
      ],
      "text/plain": [
       "4.00"
      ]
     },
     "execution_count": 11,
     "metadata": {},
     "output_type": "execute_result"
    }
   ],
   "source": [
    "import sympy as sp\n",
    "\n",
    "x = sp.Symbol('x')\n",
    "# Задаем новую функцию f(x) = 3*x - 1\n",
    "f = 2 * x + 1\n",
    "\n",
    "# Вычисляем коэффициент b_1 для новой функции\n",
    "b_1 = (1 / sp.pi) * sp.integrate(f * sp.sin(x), (x, -sp.pi, sp.pi))\n",
    "\n",
    "# Округлим результат до 3 знаков после запятой\n",
    "b_1_rounded = b_1.evalf(3)\n",
    "b_1_rounded"
   ]
  },
  {
   "cell_type": "markdown",
   "metadata": {},
   "source": []
  },
  {
   "cell_type": "code",
   "execution_count": 13,
   "metadata": {},
   "outputs": [
    {
     "data": {
      "text/plain": [
       "([array([0.]),\n",
       "  array([0.]),\n",
       "  array([3. , 2.5]),\n",
       "  array([-5.65685425,  0.        ,  0.        ,  6.36396103])],\n",
       " array([-2.5 ,  5.5 , -1.5 , -1.5 ,  1.25,  1.25,  3.25, -5.75]),\n",
       " np.float64(6.0))"
      ]
     },
     "execution_count": 13,
     "metadata": {},
     "output_type": "execute_result"
    }
   ],
   "source": [
    "import numpy as np\n",
    "import pywt\n",
    "\n",
    "# Исходный сигнал\n",
    "signal = np.array([-3,5,-1,-3,2,2,4,-5])\n",
    "\n",
    "coeffs = pywt.wavedec(signal, 'haar')\n",
    "\n",
    "coeff_arr, coeff_slices = pywt.coeffs_to_array(coeffs)\n",
    "indices_to_zero = np.argsort(np.abs(coeff_arr))[:4]\n",
    "coeff_arr[indices_to_zero] = 0\n",
    "coeffs_thresholded = pywt.array_to_coeffs(coeff_arr, coeff_slices, output_format='wavedec')\n",
    "\n",
    "reconstructed_signal = pywt.waverec(coeffs_thresholded, 'haar')\n",
    "\n",
    "# Вычисляем L1 норму между исходным и восстановленным сигналами\n",
    "L1_norm = np.sum(np.abs(signal - reconstructed_signal))\n",
    "\n",
    "coeffs_thresholded, reconstructed_signal, L1_norm\n"
   ]
  },
  {
   "cell_type": "code",
   "execution_count": 12,
   "metadata": {},
   "outputs": [
    {
     "data": {
      "text/plain": [
       "[array([45.254834]),\n",
       " array([-14.14213562]),\n",
       " array([ 4., 10.]),\n",
       " array([-5.65685425, -1.41421356, -2.82842712,  7.07106781])]"
      ]
     },
     "execution_count": 12,
     "metadata": {},
     "output_type": "execute_result"
    }
   ],
   "source": [
    "import pywt\n",
    "import numpy as np\n",
    "\n",
    "# Исходный сигнал\n",
    "signal = np.array([9,17,8,10,24,28,21,11])\n",
    "\n",
    "# Выполняем вейвлет-разложение с использованием вейвлета Хаара\n",
    "pywt.wavedec(signal, 'haar')"
   ]
  },
  {
   "cell_type": "code",
   "execution_count": 14,
   "metadata": {},
   "outputs": [
    {
     "data": {
      "text/latex": [
       "$\\displaystyle 0.6$"
      ],
      "text/plain": [
       "0.600"
      ]
     },
     "execution_count": 14,
     "metadata": {},
     "output_type": "execute_result"
    }
   ],
   "source": [
    "from sympy import symbols, integrate, exp, Abs, I, pi\n",
    "\n",
    "# Определяем переменные\n",
    "t, w = symbols('t w', real=True)\n",
    "\n",
    "# Определяем функцию f(t)\n",
    "f_t = exp(-Abs(t) / 3)\n",
    "\n",
    "# Определяем преобразование Фурье F(w) = ∫f(t)*exp(-I*w*t) dt от -∞ до ∞\n",
    "F_w = integrate(f_t * exp(-I * w * t), (t, -float('inf'), float('inf'))).simplify()\n",
    "\n",
    "# Подставляем w = 1 и округляем до 3 знаков после запятой\n",
    "F_w_at_1 = F_w.subs(w, 1).evalf(3)\n",
    "F_w_at_1"
   ]
  },
  {
   "cell_type": "code",
   "execution_count": 16,
   "metadata": {},
   "outputs": [
    {
     "data": {
      "text/latex": [
       "$\\displaystyle \\cos{\\left(6 \\pi t \\right)} + \\cos{\\left(10 \\pi t \\right)}$"
      ],
      "text/plain": [
       "cos(6*pi*t) + cos(10*pi*t)"
      ]
     },
     "execution_count": 16,
     "metadata": {},
     "output_type": "execute_result"
    }
   ],
   "source": [
    "sp.cos(2*sp.pi*3*t) + sp.cos(2*sp.pi*5*t)\n"
   ]
  },
  {
   "cell_type": "code",
   "execution_count": 33,
   "metadata": {},
   "outputs": [
    {
     "data": {
      "image/png": "[encoded data removed]",
      "text/plain": [
       "<Figure size 1000x500 with 1 Axes>"
      ]
     },
     "metadata": {},
     "output_type": "display_data"
    }
   ],
   "source": [
    "import numpy as np\n",
    "import matplotlib.pyplot as plt\n",
    "\n",
    "# Parameters\n",
    "fs = 16  # sampling frequency in Hz\n",
    "T = 1    # duration of signal in seconds\n",
    "t = np.linspace(0, T, fs, endpoint=False)  # time vector\n",
    "\n",
    "# Signal: x(t) = cos(2 * pi * 3 * t) + cos(2 * pi * 5 * t)\n",
    "x = np.cos(2 * np.pi * 3 * t) + np.cos(2 * np.pi * 5 * t) + np.cos(2 * np.pi * 13 * t) + np.cos(2 * np.pi * 11 * t)\n",
    "\n",
    "# Perform Fourier Transform and calculate amplitude spectrum\n",
    "X_f = np.fft.fft(x)\n",
    "frequencies = np.fft.fftfreq(len(X_f), 1/fs)\n",
    "amplitude_spectrum = np.abs(X_f) / len(X_f)\n",
    "\n",
    "# Plotting the amplitude spectrum (positive frequencies only)\n",
    "plt.figure(figsize=(10, 5))\n",
    "plt.stem(frequencies, amplitude_spectrum, 'b', markerfmt=\" \", basefmt=\"-\")\n",
    "plt.xlabel(\"Frequency (Hz)\")\n",
    "plt.ylabel(\"Amplitude\")\n",
    "plt.title(\"Amplitude Spectrum of the Signal cos(2π3t) + cos(2π5t)\")\n",
    "plt.grid()\n",
    "plt.show()\n"
   ]
  }
 ],
 "metadata": {
  "kernelspec": {
   "display_name": "Python 3",
   "language": "python",
   "name": "python3"
  },
  "language_info": {
   "codemirror_mode": {
    "name": "ipython",
    "version": 3
   },
   "file_extension": ".py",
   "mimetype": "text/x-python",
   "name": "python",
   "nbconvert_exporter": "python",
   "pygments_lexer": "ipython3",
   "version": "3.12.0"
  }
 },
 "nbformat": 4,
 "nbformat_minor": 2
}
