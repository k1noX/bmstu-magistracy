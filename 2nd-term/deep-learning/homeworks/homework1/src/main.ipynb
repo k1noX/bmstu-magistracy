{
 "cells": [
  {
   "cell_type": "code",
   "execution_count": 145,
   "id": "ef2e08e5",
   "metadata": {},
   "outputs": [],
   "source": [
    "import tensorflow as tf\n",
    "from tensorflow import keras\n",
    "from tensorflow.keras import layers\n",
    "import numpy as np\n",
    "import matplotlib.pyplot as plt\n",
    "import os"
   ]
  },
  {
   "cell_type": "code",
   "execution_count": 146,
   "id": "8b274462",
   "metadata": {},
   "outputs": [],
   "source": [
    "image_size = 64\n",
    "batch_size = 64\n",
    "latent_dim = 100\n",
    "num_epochs = 50\n",
    "save_dir = '../data'\n",
    "os.makedirs(save_dir, exist_ok=True)"
   ]
  },
  {
   "cell_type": "code",
   "execution_count": 147,
   "id": "7e6175d9",
   "metadata": {},
   "outputs": [],
   "source": [
    "def preprocess(path):\n",
    "    img = tf.io.read_file(path)\n",
    "    img = tf.io.decode_png(img, channels=3)\n",
    "    \n",
    "    img = tf.image.resize_with_pad(img, image_size, image_size)\n",
    "    \n",
    "    img = tf.cast(img, tf.float32)\n",
    "    img = (img / 127.5) - 1.0\n",
    "    \n",
    "    img.set_shape([image_size, image_size, 3])\n",
    "    return img\n",
    "\n",
    "dataset = tf.data.Dataset.list_files('../dataset/*.png').shuffle(\n",
    "    1000,\n",
    ").map(\n",
    "    preprocess, num_parallel_calls=tf.data.AUTOTUNE,\n",
    ").batch(\n",
    "    batch_size, drop_remainder=True,\n",
    ").prefetch(tf.data.AUTOTUNE)"
   ]
  },
  {
   "cell_type": "code",
   "execution_count": 148,
   "id": "2a695dd9",
   "metadata": {},
   "outputs": [],
   "source": [
    "def make_generator():\n",
    "    model = keras.Sequential([\n",
    "        layers.Input(shape=(latent_dim,)),\n",
    "        layers.Reshape((1, 1, latent_dim)),\n",
    "        layers.Conv2DTranspose(512, 4, strides=1, padding='valid', use_bias=False),\n",
    "        layers.BatchNormalization(),\n",
    "        layers.ReLU(),\n",
    "        layers.Conv2DTranspose(256, 4, strides=2, padding='same', use_bias=False),\n",
    "        layers.BatchNormalization(),\n",
    "        layers.ReLU(),\n",
    "        layers.Conv2DTranspose(128, 4, strides=2, padding='same', use_bias=False),\n",
    "        layers.BatchNormalization(),\n",
    "        layers.ReLU(),\n",
    "        layers.Conv2DTranspose(64, 4, strides=2, padding='same', use_bias=False),\n",
    "        layers.BatchNormalization(),\n",
    "        layers.ReLU(),\n",
    "        layers.Conv2DTranspose(3, 4, strides=2, padding='same', activation='tanh')\n",
    "    ])\n",
    "    return model"
   ]
  },
  {
   "cell_type": "code",
   "execution_count": 149,
   "id": "84da2254",
   "metadata": {},
   "outputs": [],
   "source": [
    "def make_discriminator():\n",
    "    model = keras.Sequential([\n",
    "        layers.Input(shape=(64, 64, 3)),\n",
    "        layers.Conv2D(64, 4, strides=2, padding='same'),\n",
    "        layers.LeakyReLU(0.2),\n",
    "        layers.Conv2D(128, 4, strides=2, padding='same', use_bias=False),\n",
    "        layers.BatchNormalization(),\n",
    "        layers.LeakyReLU(0.2),\n",
    "        layers.Conv2D(256, 4, strides=2, padding='same', use_bias=False),\n",
    "        layers.BatchNormalization(),\n",
    "        layers.LeakyReLU(0.2),\n",
    "        layers.Conv2D(512, 4, strides=2, padding='same', use_bias=False),\n",
    "        layers.BatchNormalization(),\n",
    "        layers.LeakyReLU(0.2),\n",
    "        layers.Conv2D(1, 4, strides=1, padding='valid'),\n",
    "        layers.Flatten(),\n",
    "        layers.Activation('sigmoid')\n",
    "    ])\n",
    "    return model"
   ]
  },
  {
   "cell_type": "code",
   "execution_count": 150,
   "id": "a2456c1b",
   "metadata": {},
   "outputs": [],
   "source": [
    "generator = make_generator()\n",
    "discriminator = make_discriminator()"
   ]
  },
  {
   "cell_type": "code",
   "execution_count": 151,
   "id": "a9491eb3",
   "metadata": {},
   "outputs": [],
   "source": [
    "cross_entropy = keras.losses.BinaryCrossentropy()\n",
    "generator_optimizer = keras.optimizers.Adam(0.0002, beta_1=0.5)\n",
    "discriminator_optimizer = keras.optimizers.Adam(0.0002, beta_1=0.5)"
   ]
  },
  {
   "cell_type": "code",
   "execution_count": 152,
   "id": "c9d7ca16",
   "metadata": {},
   "outputs": [],
   "source": [
    "fixed_noise = tf.random.normal([25, latent_dim])"
   ]
  },
  {
   "cell_type": "code",
   "execution_count": 153,
   "id": "4404c5d1",
   "metadata": {},
   "outputs": [],
   "source": [
    "@tf.function\n",
    "def train_step(images):\n",
    "    noise = tf.random.normal([batch_size, latent_dim])\n",
    "\n",
    "    with tf.GradientTape() as gen_tape, tf.GradientTape() as disc_tape:\n",
    "        generated_images = generator(noise, training=True)\n",
    "\n",
    "        real_output = discriminator(images, training=True)\n",
    "        fake_output = discriminator(generated_images, training=True)\n",
    "\n",
    "        real_loss = cross_entropy(tf.ones_like(real_output), real_output)\n",
    "        fake_loss = cross_entropy(tf.zeros_like(fake_output), fake_output)\n",
    "        disc_loss = (real_loss + fake_loss) / 2\n",
    "\n",
    "        gen_loss = cross_entropy(tf.ones_like(fake_output), fake_output)\n",
    "\n",
    "    gradients_of_discriminator = disc_tape.gradient(disc_loss, discriminator.trainable_variables)\n",
    "    discriminator_optimizer.apply_gradients(zip(gradients_of_discriminator, discriminator.trainable_variables))\n",
    "\n",
    "    gradients_of_generator = gen_tape.gradient(gen_loss, generator.trainable_variables)\n",
    "    generator_optimizer.apply_gradients(zip(gradients_of_generator, generator.trainable_variables))\n",
    "\n",
    "    return disc_loss, gen_loss\n"
   ]
  },
  {
   "cell_type": "code",
   "execution_count": 154,
   "id": "82dd3aef",
   "metadata": {},
   "outputs": [],
   "source": [
    "def generate_and_save_images(model, epoch, test_input):\n",
    "    predictions = model(test_input, training=False)\n",
    "    predictions = (predictions + 1) * 127.5\n",
    "\n",
    "    plt.figure(figsize=(5,5))\n",
    "    for i in range(25):\n",
    "        plt.subplot(5,5,i+1)\n",
    "        plt.imshow(predictions[i].numpy().astype('uint8'))\n",
    "        plt.axis('off')\n",
    "    plt.savefig(f'{save_dir}/epoch_{epoch:03d}.png')\n",
    "    plt.close()"
   ]
  },
  {
   "cell_type": "code",
   "execution_count": 155,
   "id": "d693f28b",
   "metadata": {},
   "outputs": [
    {
     "name": "stdout",
     "output_type": "stream",
     "text": [
      "Epoch 1, D Loss: 0.0437578409910202, G Loss: 10.256768226623535\n",
      "Epoch 2, D Loss: 0.18808400630950928, G Loss: 1.789301872253418\n",
      "Epoch 3, D Loss: 0.06618992984294891, G Loss: 6.82210111618042\n",
      "Epoch 4, D Loss: 0.24231873452663422, G Loss: 1.4839198589324951\n",
      "Epoch 5, D Loss: 0.3612321615219116, G Loss: 5.992333889007568\n",
      "Epoch 6, D Loss: 0.22319740056991577, G Loss: 2.3483009338378906\n",
      "Epoch 7, D Loss: 0.20988160371780396, G Loss: 2.183026075363159\n",
      "Epoch 8, D Loss: 0.30152982473373413, G Loss: 1.38065767288208\n",
      "Epoch 9, D Loss: 0.3443082869052887, G Loss: 1.1181130409240723\n",
      "Epoch 10, D Loss: 0.4050460755825043, G Loss: 3.2214674949645996\n",
      "Epoch 11, D Loss: 0.6893696188926697, G Loss: 2.4957332611083984\n",
      "Epoch 12, D Loss: 0.21532689034938812, G Loss: 2.8754186630249023\n",
      "Epoch 13, D Loss: 0.147647887468338, G Loss: 2.809462785720825\n",
      "Epoch 14, D Loss: 0.14291104674339294, G Loss: 6.0212202072143555\n",
      "Epoch 15, D Loss: 0.1491013467311859, G Loss: 4.106727600097656\n",
      "Epoch 16, D Loss: 0.5393797755241394, G Loss: 0.731665849685669\n",
      "Epoch 17, D Loss: 0.24763020873069763, G Loss: 3.4591593742370605\n",
      "Epoch 18, D Loss: 0.10500317811965942, G Loss: 3.21803879737854\n",
      "Epoch 19, D Loss: 0.10869408398866653, G Loss: 3.590104579925537\n",
      "Epoch 20, D Loss: 0.2509767413139343, G Loss: 1.441406011581421\n",
      "Epoch 21, D Loss: 0.16454032063484192, G Loss: 4.745880126953125\n",
      "Epoch 22, D Loss: 0.14964060485363007, G Loss: 3.4711616039276123\n",
      "Epoch 23, D Loss: 0.28408676385879517, G Loss: 1.5077948570251465\n",
      "Epoch 24, D Loss: 0.2870032489299774, G Loss: 1.8187003135681152\n",
      "Epoch 25, D Loss: 0.2354559302330017, G Loss: 2.385688304901123\n",
      "Epoch 26, D Loss: 0.19617795944213867, G Loss: 2.033668041229248\n",
      "Epoch 27, D Loss: 0.36987483501434326, G Loss: 1.5224827527999878\n",
      "Epoch 28, D Loss: 0.2765567898750305, G Loss: 1.4693732261657715\n",
      "Epoch 29, D Loss: 0.237264484167099, G Loss: 2.460641384124756\n",
      "Epoch 30, D Loss: 0.20907731354236603, G Loss: 7.134307861328125\n",
      "Epoch 31, D Loss: 0.17835190892219543, G Loss: 3.778939962387085\n",
      "Epoch 32, D Loss: 0.3084251880645752, G Loss: 2.5831665992736816\n",
      "Epoch 33, D Loss: 0.3389643132686615, G Loss: 1.5897657871246338\n",
      "Epoch 34, D Loss: 0.13247781991958618, G Loss: 3.6370980739593506\n",
      "Epoch 35, D Loss: 0.1823711395263672, G Loss: 4.324680805206299\n",
      "Epoch 36, D Loss: 0.10605811327695847, G Loss: 3.034794807434082\n",
      "Epoch 37, D Loss: 0.20528611540794373, G Loss: 3.6785731315612793\n",
      "Epoch 38, D Loss: 0.10582589358091354, G Loss: 3.617419719696045\n",
      "Epoch 39, D Loss: 0.11719506978988647, G Loss: 3.3377954959869385\n",
      "Epoch 40, D Loss: 0.11223046481609344, G Loss: 2.4422645568847656\n",
      "Epoch 41, D Loss: 0.2785605192184448, G Loss: 3.106058120727539\n",
      "Epoch 42, D Loss: 0.10996190458536148, G Loss: 2.6364188194274902\n",
      "Epoch 43, D Loss: 0.09558779001235962, G Loss: 3.04561710357666\n",
      "Epoch 44, D Loss: 0.12498650699853897, G Loss: 2.436082124710083\n",
      "Epoch 45, D Loss: 0.13819345831871033, G Loss: 4.1474127769470215\n",
      "Epoch 46, D Loss: 0.06869211792945862, G Loss: 5.9228410720825195\n",
      "Epoch 47, D Loss: 0.12538368999958038, G Loss: 3.712188959121704\n",
      "Epoch 48, D Loss: 0.0747099369764328, G Loss: 3.858123779296875\n",
      "Epoch 49, D Loss: 0.12201603502035141, G Loss: 5.413294315338135\n",
      "Epoch 50, D Loss: 0.26168909668922424, G Loss: 1.9185550212860107\n"
     ]
    }
   ],
   "source": [
    "for epoch in range(num_epochs):\n",
    "    for batch in dataset:\n",
    "        d_loss, g_loss = train_step(batch)\n",
    "\n",
    "    print(f'Epoch {epoch+1}, D Loss: {d_loss}, G Loss: {g_loss}')\n",
    "\n",
    "    generate_and_save_images(generator, epoch + 1, fixed_noise)"
   ]
  },
  {
   "cell_type": "code",
   "execution_count": 156,
   "id": "b0c2a2ff",
   "metadata": {},
   "outputs": [
    {
     "name": "stderr",
     "output_type": "stream",
     "text": [
      "WARNING:absl:You are saving your model as an HDF5 file via `model.save()` or `keras.saving.save_model(model)`. This file format is considered legacy. We recommend using instead the native Keras format, e.g. `model.save('my_model.keras')` or `keras.saving.save_model(model, 'my_model.keras')`. \n",
      "WARNING:absl:You are saving your model as an HDF5 file via `model.save()` or `keras.saving.save_model(model)`. This file format is considered legacy. We recommend using instead the native Keras format, e.g. `model.save('my_model.keras')` or `keras.saving.save_model(model, 'my_model.keras')`. \n"
     ]
    }
   ],
   "source": [
    "generator.save(f'{save_dir}/generator.h5')\n",
    "discriminator.save(f'{save_dir}/discriminator.h5')"
   ]
  }
 ],
 "metadata": {
  "kernelspec": {
   "display_name": "Python 3",
   "language": "python",
   "name": "python3"
  },
  "language_info": {
   "codemirror_mode": {
    "name": "ipython",
    "version": 3
   },
   "file_extension": ".py",
   "mimetype": "text/x-python",
   "name": "python",
   "nbconvert_exporter": "python",
   "pygments_lexer": "ipython3",
   "version": "3.12.9"
  }
 },
 "nbformat": 4,
 "nbformat_minor": 5
}
