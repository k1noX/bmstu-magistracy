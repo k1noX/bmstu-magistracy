{
 "cells": [
  {
   "cell_type": "markdown",
   "metadata": {},
   "source": [
    "### Лабораторная работа №3. VAE\n",
    "\n",
    "Разработать модель вариационного автокодировщика."
   ]
  },
  {
   "cell_type": "code",
   "execution_count": null,
   "metadata": {},
   "outputs": [],
   "source": [
    "import tensorflow as tf\n",
    "from tensorflow.python.keras import layers\n",
    "import matplotlib.pyplot as plt\n",
    "import typing as t\n",
    "from tensorflow.python.data.ops.dataset_ops import BatchDataset\n",
    "from tensorflow.python.keras import Model\n",
    "from tensorflow.python.keras.optimizers import Optimizer"
   ]
  },
  {
   "cell_type": "code",
   "execution_count": 170,
   "metadata": {},
   "outputs": [],
   "source": [
    "params: dict[str, t.Any] = {\n",
    "    'encoder_layers': [128],\n",
    "    'decoder_layers': [128],\n",
    "    'digit_classification_layers': [128],\n",
    "    'activation': 'sigmoid',\n",
    "    'decoder_std': 0.5,\n",
    "    'z_dim': 10,\n",
    "    'digit_classification_weight': 10.0,\n",
    "    'epochs': 20,\n",
    "    'batch_size': 100,\n",
    "    'learning_rate': 0.001\n",
    "}"
   ]
  },
  {
   "cell_type": "markdown",
   "metadata": {},
   "source": [
    "### Модель VAE"
   ]
  },
  {
   "cell_type": "code",
   "execution_count": null,
   "metadata": {},
   "outputs": [],
   "source": [
    "class VAE(Model):\n",
    "    \"\"\"\n",
    "    Вариационный автоэнкодер для генерации рукописных цифр MNIST.\n",
    "    \n",
    "    Состоит из:\n",
    "    1. Энкодера - кодирует изображение в латентное пространство\n",
    "    2. Декодера - восстанавливает изображение из латентного представления\n",
    "    3. Классификатора - предсказывает цифру на входном изображении\n",
    "    \"\"\"\n",
    "    def __init__(self, params: dict[str, t.Any]):\n",
    "        \"\"\".\"\"\"\n",
    "\n",
    "        super(VAE, self).__init__()\n",
    "        self.params = params\n",
    "\n",
    "        encoder_layers = [\n",
    "            layers.Dense(u, activation=params['activation']) \n",
    "            for u in params['encoder_layers']\n",
    "        ]\n",
    "        self.encoder = tf.keras.Sequential(encoder_layers)\n",
    "        self.mu_layer = layers.Dense(params['z_dim'])\n",
    "        self.log_var_layer = layers.Dense(params['z_dim'])\n",
    "\n",
    "        classifier_layers = [\n",
    "            layers.Dense(u, activation=params['activation']) \n",
    "            for u in params['digit_classification_layers']\n",
    "        ]\n",
    "        self.classifier = tf.keras.Sequential(classifier_layers + [layers.Dense(10)])\n",
    "    \n",
    "        decoder_layers = [\n",
    "            layers.Dense(u, activation=params['activation']) \n",
    "            for u in params['decoder_layers']\n",
    "        ]\n",
    "        self.decoder = tf.keras.Sequential(decoder_layers + [layers.Dense(784, activation='sigmoid')])\n",
    "\n",
    "    def encode(self, x: tf.Tensor) -> tuple[tf.Tensor, tf.Tensor]:\n",
    "        \"\"\"Кодирует входные данные в параметры нормального распределения.\"\"\"\n",
    "        h = self.encoder(x)\n",
    "        return self.mu_layer(h), self.log_var_layer(h)\n",
    "    \n",
    "    def reparameterize(self, mu: tf.Tensor, log_var: tf.Tensor) -> tf.Tensor:\n",
    "        \"\"\"РепараметризациЯ для семплирования из распределения.\"\"\"\n",
    "        std = tf.exp(0.5 * log_var)\n",
    "        eps = tf.random.normal(shape=mu.shape)\n",
    "        return mu + eps * std\n",
    "    \n",
    "    def decode(self, z: tf.Tensor, digit_prob: tf.Tensor) -> tf.Tensor:\n",
    "        \"\"\"Декодирует латентное представление в изображение.\"\"\"\n",
    "        inputs = tf.concat([z, digit_prob], axis=1)\n",
    "        return self.decoder(inputs)\n",
    "    \n",
    "    def classify(self, x: tf.Tensor) -> tf.Tensor:\n",
    "        \"\"\"Классифицирует цифру на входном изображении.\"\"\"\n",
    "        return self.classifier(x)\n",
    "\n",
    "    def call(self, x: tf.Tensor) -> tuple[tf.Tensor, tf.Tensor, tf.Tensor, tf.Tensor]:\n",
    "        \"\"\"Полный проход данных через модель.\"\"\"\n",
    "        mu, log_var = self.encode(x)\n",
    "        z = self.reparameterize(mu, log_var)\n",
    "        digit_logits = self.classify(x)\n",
    "        digit_prob = tf.nn.softmax(digit_logits)\n",
    "        reconstructed = self.decode(z, digit_prob)\n",
    "        return reconstructed, mu, log_var, digit_logits\n",
    "\n",
    "    def generate(self, digit: int, z: tf.Tensor | None = None) -> tf.Tensor:\n",
    "        \"\"\"Генерирует изображение по заданной цифре и латентному вектору.\"\"\"\n",
    "        if z is None:\n",
    "            z = tf.random.normal((1, self.param['z_dim']))\n",
    "        digit_one_hot = tf.one_hot([digit], depth=10)\n",
    "        return self.decode(z, digit_one_hot)"
   ]
  },
  {
   "cell_type": "code",
   "execution_count": 172,
   "metadata": {},
   "outputs": [],
   "source": [
    "(x_train, y_train), (x_test, y_test) = tf.keras.datasets.mnist.load_data()\n",
    "x_train = x_train.astype('float32') / 255.0\n",
    "x_test = x_test.astype('float32') / 255.0\n",
    "x_train = x_train.reshape(-1, 784)\n",
    "x_test = x_test.reshape(-1, 784)\n",
    "y_train = y_train.astype('int32')\n",
    "y_test = y_test.astype('int32')\n",
    "\n",
    "train_dataset = tf.data.Dataset.from_tensor_slices((x_train, y_train))\n",
    "train_dataset = (\n",
    "    train_dataset\n",
    "    .shuffle(buffer_size=params.get('buffer_size', 1024))\n",
    "    .batch(params['batch_size'])\n",
    "    .prefetch(buffer_size=tf.data.experimental.AUTOTUNE)\n",
    ")\n",
    "\n",
    "test_dataset = tf.data.Dataset.from_tensor_slices((x_test, y_test))\n",
    "test_dataset = (\n",
    "    test_dataset\n",
    "    .batch(params['batch_size'])\n",
    "    .prefetch(buffer_size=tf.data.experimental.AUTOTUNE)\n",
    ")"
   ]
  },
  {
   "cell_type": "code",
   "execution_count": 173,
   "metadata": {},
   "outputs": [],
   "source": [
    "model = VAE(params)\n",
    "tf.config.run_functions_eagerly(True)\n",
    "optimizer = tf.keras.optimizers.Adam(params['learning_rate'])"
   ]
  },
  {
   "cell_type": "code",
   "execution_count": 174,
   "metadata": {},
   "outputs": [],
   "source": [
    "def compute_loss(\n",
    "        x: tf.Tensor, \n",
    "        y: tf.Tensor,\n",
    "        reconstructed: tf.Tensor,\n",
    "        mu: tf.Tensor,\n",
    "        log_var: tf.Tensor,\n",
    "        digit_logits: tf.Tensor,\n",
    ") -> tf.Tensor:\n",
    "    \"\"\"Вычисляет суммарные потери модели.\"\"\"\n",
    "    recon_loss = tf.reduce_sum(\n",
    "        tf.keras.losses.binary_crossentropy(x, reconstructed, from_logits=False),\n",
    "        axis=-1,\n",
    "    )\n",
    "\n",
    "    kl_loss = -0.5 * tf.reduce_sum(\n",
    "        1 + log_var - tf.square(mu) - tf.exp(log_var),\n",
    "        axis=-1,\n",
    "    )\n",
    "\n",
    "    cls_loss = tf.reduce_mean(\n",
    "        tf.nn.sparse_softmax_cross_entropy_with_logits(\n",
    "            labels=y, \n",
    "            logits=digit_logits\n",
    "        )\n",
    "    )\n",
    "\n",
    "    cls_loss = tf.reduce_mean(\n",
    "        tf.nn.sparse_softmax_cross_entropy_with_logits(labels=y, logits=digit_logits)\n",
    "    ) * params['digit_classification_weight']\n",
    "\n",
    "    total_loss = tf.reduce_mean(recon_loss + kl_loss)\n",
    "\n",
    "    return total_loss +  cls_loss"
   ]
  },
  {
   "cell_type": "code",
   "execution_count": 175,
   "metadata": {},
   "outputs": [],
   "source": [
    "@tf.function\n",
    "def train_step(\n",
    "    x: tf.Tensor,\n",
    "    y: tf.Tensor,\n",
    "    model: Model,\n",
    "    optimizer: Optimizer,\n",
    "    metrics: dict[str, tf.keras.metrics.Metric],\n",
    ") -> tuple[tf.Tensor, dict[str, float]]:\n",
    "    \"\"\"Один шаг обучения модели с расширенными возможностями.\"\"\"\n",
    "    with tf.GradientTape() as tape:\n",
    "        reconstructed, mu, log_var, digit_logits = model(x, training=True)\n",
    "        total_loss = compute_loss(\n",
    "            x=x,\n",
    "            y=y,\n",
    "            reconstructed=reconstructed,\n",
    "            mu=mu,\n",
    "            log_var=log_var,\n",
    "            digit_logits=digit_logits,\n",
    "        )\n",
    "        regularization_loss = tf.reduce_sum(model.losses)\n",
    "        total_loss += regularization_loss\n",
    "    gradients = tape.gradient(total_loss, model.trainable_variables)\n",
    "    if None in gradients:\n",
    "        raise ValueError\n",
    "    optimizer.apply_gradients(zip(gradients, model.trainable_variables))\n",
    "\n",
    "    metrics['total_loss'].update_state(total_loss)\n",
    "    metrics['recon_loss'].update_state(\n",
    "        tf.reduce_mean(tf.keras.losses.binary_crossentropy(x, reconstructed))\n",
    "    )\n",
    "    metrics['kl_loss'].update_state(\n",
    "        -0.5 * tf.reduce_mean(1 + log_var - tf.square(mu) - tf.exp(log_var))\n",
    "    )\n",
    "    metrics['cls_loss'].update_state(\n",
    "        tf.reduce_mean(\n",
    "            tf.nn.sparse_softmax_cross_entropy_with_logits(\n",
    "                labels=y, \n",
    "                logits=digit_logits\n",
    "            )\n",
    "        )\n",
    "    )\n",
    "\n",
    "    return total_loss, metrics"
   ]
  },
  {
   "cell_type": "code",
   "execution_count": 176,
   "metadata": {},
   "outputs": [],
   "source": [
    "from tqdm import tqdm"
   ]
  },
  {
   "cell_type": "code",
   "execution_count": 177,
   "metadata": {},
   "outputs": [],
   "source": [
    "def train_model(\n",
    "    model: Model,\n",
    "    optimizer: Optimizer,\n",
    "    train_dataset: BatchDataset,\n",
    "    params: dict[str, t.Any],\n",
    "    validation_dataset: BatchDataset | None = None,\n",
    ") -> tuple[list[float], list[float]]:\n",
    "    \"\"\"Полный цикл обучения модели с расширенными возможностями.\"\"\"\n",
    "    train_losses = []\n",
    "    val_losses = []\n",
    "    metrics = {\n",
    "        'total_loss': tf.keras.metrics.Mean(),\n",
    "        'recon_loss': tf.keras.metrics.Mean(),\n",
    "        'kl_loss': tf.keras.metrics.Mean(),\n",
    "        'cls_loss': tf.keras.metrics.Mean()\n",
    "    }\n",
    "\n",
    "    for epoch in range(params['epochs']):\n",
    "        epoch_train_loss = tf.keras.metrics.Mean()\n",
    "        progress_bar = tqdm(\n",
    "            train_dataset,\n",
    "            desc=f'Epoch {epoch+1}/{params[\"epochs\"]}',\n",
    "            unit='batch'\n",
    "        )\n",
    "\n",
    "        for x_batch, y_batch in progress_bar:\n",
    "            x_batch = tf.cast(x_batch, tf.float32)\n",
    "            y_batch = tf.cast(y_batch, tf.int32)\n",
    "\n",
    "            loss, metrics = train_step(\n",
    "                x=x_batch,\n",
    "                y=y_batch,\n",
    "                model=model,\n",
    "                optimizer=optimizer,\n",
    "                metrics=metrics,\n",
    "            )\n",
    "\n",
    "            epoch_train_loss.update_state(loss)\n",
    "            progress_bar.set_postfix({\n",
    "                'loss': f'{metrics[\"total_loss\"].result().numpy():.4f}',\n",
    "                'recon': f'{metrics[\"recon_loss\"].result().numpy():.4f}',\n",
    "                'kl': f'{metrics[\"kl_loss\"].result().numpy():.4f}',\n",
    "                'cls': f'{metrics[\"cls_loss\"].result().numpy():.4f}'\n",
    "            })\n",
    "\n",
    "        train_losses.append(epoch_train_loss.result().numpy())\n",
    "        \n",
    "        if validation_dataset:\n",
    "            val_loss = validate_model(model, validation_dataset)\n",
    "            val_losses.append(val_loss.numpy())\n",
    "            print(f'\\nValidation Loss: {val_loss:.4f}')\n",
    "\n",
    "        print(f'\\nEpoch {epoch+1} завершена, средний loss: {train_losses[-1]:.4f}')\n",
    "\n",
    "    return train_losses, val_losses\n",
    "\n",
    "def validate_model(\n",
    "    model: Model,\n",
    "    validation_dataset: BatchDataset,\n",
    ") -> tf.Tensor:\n",
    "    \"\"\"Оценка модели на валидационном наборе данных\"\"\"\n",
    "    epoch_val_loss = tf.keras.metrics.Mean()\n",
    "    \n",
    "    for x_batch, y_batch in validation_dataset:\n",
    "        x_batch = tf.cast(x_batch, tf.float32)\n",
    "        y_batch = tf.cast(y_batch, tf.int32)\n",
    "        \n",
    "        reconstructed, mu, log_var, digit_logits = model(x_batch, training=False)\n",
    "        loss = compute_loss(\n",
    "            x=x_batch,\n",
    "            y=y_batch,\n",
    "            reconstructed=reconstructed,\n",
    "            mu=mu,\n",
    "            log_var=log_var,\n",
    "            digit_logits=digit_logits,\n",
    "        )\n",
    "        epoch_val_loss.update_state(loss)\n",
    "        \n",
    "    return epoch_val_loss.result()"
   ]
  },
  {
   "cell_type": "code",
   "execution_count": 178,
   "metadata": {},
   "outputs": [
    {
     "name": "stderr",
     "output_type": "stream",
     "text": [
      "Epoch 1/20: 100%|██████████| 600/600 [00:50<00:00, 11.93batch/s, loss=33.0292, recon=0.2716, kl=0.0215, cls=0.5656]\n"
     ]
    },
    {
     "name": "stdout",
     "output_type": "stream",
     "text": [
      "\n",
      "Validation Loss: 27.6959\n",
      "\n",
      "Epoch 1 завершена, средний loss: 33.0292\n"
     ]
    },
    {
     "name": "stderr",
     "output_type": "stream",
     "text": [
      "Epoch 2/20: 100%|██████████| 600/600 [00:51<00:00, 11.58batch/s, loss=29.3447, recon=0.2496, kl=0.0243, cls=0.4140]\n"
     ]
    },
    {
     "name": "stdout",
     "output_type": "stream",
     "text": [
      "\n",
      "Validation Loss: 24.3901\n",
      "\n",
      "Epoch 2 завершена, средний loss: 25.6601\n"
     ]
    },
    {
     "name": "stderr",
     "output_type": "stream",
     "text": [
      "Epoch 3/20: 100%|██████████| 600/600 [00:51<00:00, 11.71batch/s, loss=27.4761, recon=0.2372, kl=0.0295, cls=0.3464]\n"
     ]
    },
    {
     "name": "stdout",
     "output_type": "stream",
     "text": [
      "\n",
      "Validation Loss: 23.3700\n",
      "\n",
      "Epoch 3 завершена, средний loss: 23.7391\n"
     ]
    },
    {
     "name": "stderr",
     "output_type": "stream",
     "text": [
      "Epoch 4/20: 100%|██████████| 600/600 [00:52<00:00, 11.47batch/s, loss=26.3493, recon=0.2291, kl=0.0394, cls=0.3046]\n"
     ]
    },
    {
     "name": "stdout",
     "output_type": "stream",
     "text": [
      "\n",
      "Validation Loss: 22.6939\n",
      "\n",
      "Epoch 4 завершена, средний loss: 22.9686\n"
     ]
    },
    {
     "name": "stderr",
     "output_type": "stream",
     "text": [
      "Epoch 5/20: 100%|██████████| 600/600 [00:53<00:00, 11.18batch/s, loss=25.5808, recon=0.2234, kl=0.0497, cls=0.2745]\n"
     ]
    },
    {
     "name": "stdout",
     "output_type": "stream",
     "text": [
      "\n",
      "Validation Loss: 22.3398\n",
      "\n",
      "Epoch 5 завершена, средний loss: 22.5069\n"
     ]
    },
    {
     "name": "stderr",
     "output_type": "stream",
     "text": [
      "Epoch 6/20: 100%|██████████| 600/600 [00:50<00:00, 11.96batch/s, loss=25.0181, recon=0.2192, kl=0.0583, cls=0.2511]\n"
     ]
    },
    {
     "name": "stdout",
     "output_type": "stream",
     "text": [
      "\n",
      "Validation Loss: 22.1569\n",
      "\n",
      "Epoch 6 завершена, средний loss: 22.2041\n"
     ]
    },
    {
     "name": "stderr",
     "output_type": "stream",
     "text": [
      "Epoch 7/20: 100%|██████████| 600/600 [00:50<00:00, 11.97batch/s, loss=24.5833, recon=0.2161, kl=0.0655, cls=0.2322]\n"
     ]
    },
    {
     "name": "stdout",
     "output_type": "stream",
     "text": [
      "\n",
      "Validation Loss: 21.9356\n",
      "\n",
      "Epoch 7 завершена, средний loss: 21.9747\n"
     ]
    },
    {
     "name": "stderr",
     "output_type": "stream",
     "text": [
      "Epoch 8/20: 100%|██████████| 600/600 [00:52<00:00, 11.50batch/s, loss=24.2293, recon=0.2135, kl=0.0717, cls=0.2164]\n"
     ]
    },
    {
     "name": "stdout",
     "output_type": "stream",
     "text": [
      "\n",
      "Validation Loss: 21.7185\n",
      "\n",
      "Epoch 8 завершена, средний loss: 21.7512\n"
     ]
    },
    {
     "name": "stderr",
     "output_type": "stream",
     "text": [
      "Epoch 9/20: 100%|██████████| 600/600 [00:50<00:00, 11.78batch/s, loss=23.9284, recon=0.2113, kl=0.0772, cls=0.2028]\n"
     ]
    },
    {
     "name": "stdout",
     "output_type": "stream",
     "text": [
      "\n",
      "Validation Loss: 21.5508\n",
      "\n",
      "Epoch 9 завершена, средний loss: 21.5214\n"
     ]
    },
    {
     "name": "stderr",
     "output_type": "stream",
     "text": [
      "Epoch 10/20: 100%|██████████| 600/600 [00:55<00:00, 10.83batch/s, loss=23.6641, recon=0.2093, kl=0.0824, cls=0.1910]\n"
     ]
    },
    {
     "name": "stdout",
     "output_type": "stream",
     "text": [
      "\n",
      "Validation Loss: 21.3575\n",
      "\n",
      "Epoch 10 завершена, средний loss: 21.2852\n"
     ]
    },
    {
     "name": "stderr",
     "output_type": "stream",
     "text": [
      "Epoch 11/20: 100%|██████████| 600/600 [00:54<00:00, 10.98batch/s, loss=23.4278, recon=0.2075, kl=0.0874, cls=0.1806]\n"
     ]
    },
    {
     "name": "stdout",
     "output_type": "stream",
     "text": [
      "\n",
      "Validation Loss: 21.1974\n",
      "\n",
      "Epoch 11 завершена, средний loss: 21.0646\n"
     ]
    },
    {
     "name": "stderr",
     "output_type": "stream",
     "text": [
      "Epoch 12/20: 100%|██████████| 600/600 [00:55<00:00, 10.84batch/s, loss=23.2150, recon=0.2058, kl=0.0921, cls=0.1713]\n"
     ]
    },
    {
     "name": "stdout",
     "output_type": "stream",
     "text": [
      "\n",
      "Validation Loss: 21.0214\n",
      "\n",
      "Epoch 12 завершена, средний loss: 20.8745\n"
     ]
    },
    {
     "name": "stderr",
     "output_type": "stream",
     "text": [
      "Epoch 13/20: 100%|██████████| 600/600 [00:54<00:00, 11.06batch/s, loss=23.0225, recon=0.2043, kl=0.0965, cls=0.1630]\n"
     ]
    },
    {
     "name": "stdout",
     "output_type": "stream",
     "text": [
      "\n",
      "Validation Loss: 20.8937\n",
      "\n",
      "Epoch 13 завершена, средний loss: 20.7125\n"
     ]
    },
    {
     "name": "stderr",
     "output_type": "stream",
     "text": [
      "Epoch 14/20: 100%|██████████| 600/600 [00:53<00:00, 11.15batch/s, loss=22.8471, recon=0.2029, kl=0.1008, cls=0.1554]\n"
     ]
    },
    {
     "name": "stdout",
     "output_type": "stream",
     "text": [
      "\n",
      "Validation Loss: 20.7963\n",
      "\n",
      "Epoch 14 завершена, средний loss: 20.5668\n"
     ]
    },
    {
     "name": "stderr",
     "output_type": "stream",
     "text": [
      "Epoch 15/20: 100%|██████████| 600/600 [00:50<00:00, 11.94batch/s, loss=22.6867, recon=0.2015, kl=0.1048, cls=0.1485]\n"
     ]
    },
    {
     "name": "stdout",
     "output_type": "stream",
     "text": [
      "\n",
      "Validation Loss: 20.7233\n",
      "\n",
      "Epoch 15 завершена, средний loss: 20.4417\n"
     ]
    },
    {
     "name": "stderr",
     "output_type": "stream",
     "text": [
      "Epoch 16/20: 100%|██████████| 600/600 [00:52<00:00, 11.45batch/s, loss=22.5409, recon=0.2003, kl=0.1086, cls=0.1423]\n"
     ]
    },
    {
     "name": "stdout",
     "output_type": "stream",
     "text": [
      "\n",
      "Validation Loss: 20.6639\n",
      "\n",
      "Epoch 16 завершена, средний loss: 20.3529\n"
     ]
    },
    {
     "name": "stderr",
     "output_type": "stream",
     "text": [
      "Epoch 17/20: 100%|██████████| 600/600 [00:51<00:00, 11.76batch/s, loss=22.4055, recon=0.1992, kl=0.1122, cls=0.1365]\n"
     ]
    },
    {
     "name": "stdout",
     "output_type": "stream",
     "text": [
      "\n",
      "Validation Loss: 20.5604\n",
      "\n",
      "Epoch 17 завершена, средний loss: 20.2386\n"
     ]
    },
    {
     "name": "stderr",
     "output_type": "stream",
     "text": [
      "Epoch 18/20: 100%|██████████| 600/600 [00:51<00:00, 11.71batch/s, loss=22.2804, recon=0.1981, kl=0.1156, cls=0.1311]\n"
     ]
    },
    {
     "name": "stdout",
     "output_type": "stream",
     "text": [
      "\n",
      "Validation Loss: 20.5156\n",
      "\n",
      "Epoch 18 завершена, средний loss: 20.1539\n"
     ]
    },
    {
     "name": "stderr",
     "output_type": "stream",
     "text": [
      "Epoch 19/20: 100%|██████████| 600/600 [00:50<00:00, 11.90batch/s, loss=22.1653, recon=0.1971, kl=0.1189, cls=0.1262]\n"
     ]
    },
    {
     "name": "stdout",
     "output_type": "stream",
     "text": [
      "\n",
      "Validation Loss: 20.4387\n",
      "\n",
      "Epoch 19 завершена, средний loss: 20.0928\n"
     ]
    },
    {
     "name": "stderr",
     "output_type": "stream",
     "text": [
      "Epoch 20/20: 100%|██████████| 600/600 [00:51<00:00, 11.76batch/s, loss=22.0579, recon=0.1962, kl=0.1220, cls=0.1216]\n"
     ]
    },
    {
     "name": "stdout",
     "output_type": "stream",
     "text": [
      "\n",
      "Validation Loss: 20.4167\n",
      "\n",
      "Epoch 20 завершена, средний loss: 20.0188\n"
     ]
    }
   ],
   "source": [
    "train_losses, val_losses = train_model(\n",
    "    model=model,\n",
    "    optimizer=optimizer,\n",
    "    train_dataset=train_dataset,\n",
    "    validation_dataset=test_dataset,\n",
    "    params=params,\n",
    ")"
   ]
  },
  {
   "cell_type": "code",
   "execution_count": 185,
   "metadata": {},
   "outputs": [
    {
     "data": {
      "image/png": "[encoded data removed]",
      "text/plain": [
       "<Figure size 1000x200 with 10 Axes>"
      ]
     },
     "metadata": {},
     "output_type": "display_data"
    }
   ],
   "source": [
    "def generate_digits(model: VAE):\n",
    "    \"\"\"Генерирует и отображает изображения цифр 0-9.\"\"\"\n",
    "    plt.figure(figsize=(10, 2))\n",
    "    \n",
    "    for i in range(10):\n",
    "        plt.subplot(1, 10, i + 1)\n",
    "        z = tf.random.normal((1, params['z_dim']))\n",
    "        digit_one_hot = tf.one_hot([i], depth=10)\n",
    "        res = model.decode(z, digit_one_hot).numpy()\n",
    "        plt.imshow(res.reshape(28, 28), cmap='gray')\n",
    "        plt.axis('off')\n",
    "        plt.title(str(i))\n",
    "    plt.tight_layout()\n",
    "    plt.show()\n",
    "\n",
    "generate_digits(model)"
   ]
  }
 ],
 "metadata": {
  "kernelspec": {
   "display_name": "Python 3",
   "language": "python",
   "name": "python3"
  },
  "language_info": {
   "codemirror_mode": {
    "name": "ipython",
    "version": 3
   },
   "file_extension": ".py",
   "mimetype": "text/x-python",
   "name": "python",
   "nbconvert_exporter": "python",
   "pygments_lexer": "ipython3",
   "version": "3.12.9"
  }
 },
 "nbformat": 4,
 "nbformat_minor": 2
}
